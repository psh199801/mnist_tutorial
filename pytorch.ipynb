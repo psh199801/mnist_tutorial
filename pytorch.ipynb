{
 "cells": [
  {
   "cell_type": "markdown",
   "metadata": {},
   "source": [
    "# Pytorch Tutorial"
   ]
  },
  {
   "cell_type": "markdown",
   "metadata": {},
   "source": [
    "Pytorch is a popular deep learning framework and it's easy to get started."
   ]
  },
  {
   "cell_type": "code",
   "execution_count": null,
   "metadata": {
    "collapsed": true
   },
   "outputs": [],
   "source": [
    "import torch\n",
    "import torch.nn as nn\n",
    "import torch.utils.data as data\n",
    "import torchvision\n",
    "import torchvision.transforms as transforms\n",
    "from tqdm import tqdm\n",
    "import time\n",
    "\n",
    "BATCH_SIZE = 128\n",
    "NUM_EPOCHS = 10"
   ]
  },
  {
   "cell_type": "markdown",
   "metadata": {},
   "source": [
    "First, we read the mnist data, preprocess them and encapsulate them into dataloader form."
   ]
  },
  {
   "cell_type": "code",
   "execution_count": null,
   "metadata": {
    "collapsed": true
   },
   "outputs": [],
   "source": [
    "# preprocessing\n",
    "normalize = transforms.Normalize(mean=[.5], std=[.5])\n",
    "transform = transforms.Compose([transforms.ToTensor(), normalize])\n",
    "\n",
    "# download and load the data\n",
    "train_dataset = torchvision.datasets.MNIST(root='./mnist/', train=True, transform=transform, download=True)\n",
    "test_dataset = torchvision.datasets.MNIST(root='./mnist/', train=False, transform=transform, download=False)\n",
    "\n",
    "# encapsulate them into dataloader form\n",
    "train_loader = data.DataLoader(train_dataset, batch_size=BATCH_SIZE, shuffle=True, drop_last=True)\n",
    "test_loader = data.DataLoader(test_dataset, batch_size=BATCH_SIZE, shuffle=False, drop_last=True)"
   ]
  },
  {
   "cell_type": "markdown",
   "metadata": {},
   "source": [
    "Then, we define the model, object function and optimizer that we use to classify."
   ]
  },
  {
   "cell_type": "code",
   "execution_count": null,
   "metadata": {
    "collapsed": true
   },
   "outputs": [],
   "source": [
    "class SimpleNet(nn.Module):\n",
    "# TODO:define model\n",
     "def __init__(self, in_dim, n_hidden_1, n_hidden_2, out_dim):\n" 
		    "super(simpleNet, self).__init__()\n"
		    "self.layer1 = nn.Linear(in_dim, n_hidden_1)\n" 
		    "self.layer2 = nn.Linear(n_hidden_1, n_hidden_2)\n" 
		    "self.layer3 = nn.Linear(n_hidden_2, out_dim)\n"
     "def forward(self, x): \n"
		    "x = self.layer1(x) \n"
		    "x = self.layer2(x) \n"
		    "x = self.layer3(x) \n"
		    "return x\n"
    "model = SimpleNet()\n",
    "\n",
    "# TODO:define loss function and optimiter\n",
    "criterion = nn.CrossEntropyLoss()\n",
    "optimizer = optim.SGD(model.parameters(), lr=learning_rate)"
   ]
  },
  {
   "cell_type": "markdown",
   "metadata": {},
   "source": [
    "Next, we can start to train and evaluate!"
   ]
  },
  {
   "cell_type": "code",
   "execution_count": null,
   "metadata": {
    "collapsed": true,
    "scrolled": true
   },
   "outputs": [],
   "source": [
    "# train and evaluate\n",
    "epoch = 0\n"
"for data in train_loader:\n"
 "   img, label = data\n"
 "   img = img.view(img.size(0), -1)\n"
  "  if torch.cuda.is_available():\n"
   "     img = img.cuda()\n"
    "    label = label.cuda()\n"
    "else:\n"
     "   img = Variable(img)\n"
      "  label = Variable(label)\n"
    "out = model(img)\n"
    "loss = criterion(out, label)\n"
    "print_loss = loss.data.item()\n"

   " optimizer.zero_grad()\n"
    "loss.backward()\n"
    "optimizer.step()\n"
    "epoch+=1\n"
    "if epoch%50 == 0:\n"
     "   print('epoch: {}, loss: {:.4}'.format(epoch, loss.data.item()))\n"

"# 模型评估\n"
"model.eval()\n"
"eval_loss = 0\n"
"eval_acc = 0\n"
"for data in test_loader:\n"
 "   img, label = data\n"
  "  img = img.view(img.size(0), -1)\n"
   " if torch.cuda.is_available():\n"
    "    img = img.cuda()\n"
     "   label = label.cuda()\n"

"    out = model(img)\n"
 "   loss = criterion(out, label)\n"
  "  eval_loss += loss.data.item()*label.size(0)\n"
   " _, pred = torch.max(out, 1)\n"
    "num_correct = (pred == label).sum()\n"
  "  eval_acc += num_correct.item()\n"
"print('Test Loss: {:.6f}, Acc: {:.6f}'.format(\n"
 "   eval_loss / (len(test_dataset)),\n"
  "  eval_acc / (len(test_dataset))\n"
"))\n"
    "    # evaluate\n",
    "    # TODO:calculate the accuracy using traning and testing dataset\n",
    "    \n",
    "    \n",
    "    \n",
    "    \n"
   ]
  },
  {
   "cell_type": "markdown",
   "metadata": {},
   "source": [
    "#### Q5:\n",
    "Please print the training and testing accuracy."
   ]
  }
 ],
 "metadata": {
  "kernelspec": {
   "display_name": "Python [default]",
   "language": "python",
   "name": "python3"
  },
  "language_info": {
   "codemirror_mode": {
    "name": "ipython",
    "version": 3
   },
   "file_extension": ".py",
   "mimetype": "text/x-python",
   "name": "python",
   "nbconvert_exporter": "python",
   "pygments_lexer": "ipython3",
   "version": "3.6.3"
  }
 },
 "nbformat": 4,
 "nbformat_minor": 2
}
